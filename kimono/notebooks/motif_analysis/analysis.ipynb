{
 "cells": [
  {
   "cell_type": "code",
   "execution_count": 2,
   "metadata": {},
   "outputs": [
    {
     "name": "stderr",
     "output_type": "stream",
     "text": [
      "/home/cim/STRUCTURAL_MOTIFS/kimono/kimono/analysis/__init__.py:41: SyntaxWarning: \"is not\" with a literal. Did you mean \"!=\"?\n",
      "  }\n"
     ]
    },
    {
     "ename": "ImportError",
     "evalue": "cannot import name 'get_node_id_string' from 'kimono.utils.utils' (/home/cim/STRUCTURAL_MOTIFS/kimono/kimono/utils/utils.py)",
     "output_type": "error",
     "traceback": [
      "\u001b[0;31m---------------------------------------------------------------------------\u001b[0m",
      "\u001b[0;31mImportError\u001b[0m                               Traceback (most recent call last)",
      "Cell \u001b[0;32mIn[2], line 1\u001b[0m\n\u001b[0;32m----> 1\u001b[0m \u001b[38;5;28;01mfrom\u001b[39;00m \u001b[38;5;21;01mkimono\u001b[39;00m\u001b[38;5;21;01m.\u001b[39;00m\u001b[38;5;21;01manalysis\u001b[39;00m \u001b[38;5;28;01mimport\u001b[39;00m MotifAnalysis \u001b[38;5;28;01mas\u001b[39;00m MA\n",
      "File \u001b[0;32m~/STRUCTURAL_MOTIFS/kimono/kimono/analysis/__init__.py:18\u001b[0m\n\u001b[1;32m     17\u001b[0m \u001b[39mclass\u001b[39;00m \u001b[39mMotifAnalysisConfig\u001b[39;00m(BaseModel):\n\u001b[0;32m---> 18\u001b[0m \u001b[39m    \u001b[39m\u001b[39m\"\"\"Configuration for motif analysis.\"\"\"\u001b[39;00m\n\u001b[1;32m     20\u001b[0m \u001b[39m    \u001b[39m\u001b[39m\"\"\"Data directory.\"\"\"\u001b[39;00m\n\u001b[1;32m     21\u001b[0m     data_dir: Path \u001b[39m=\u001b[39m \u001b[39mNone\u001b[39;00m \u001b[39m# If not none, this overrides the sequence_path and structure_path \u001b[39;00m\n",
      "\u001b[0;31mImportError\u001b[0m: cannot import name 'get_node_id_string' from 'kimono.utils.utils' (/home/cim/STRUCTURAL_MOTIFS/kimono/kimono/utils/utils.py)"
     ]
    }
   ],
   "source": [
    "from kimono.analysis import MotifAnalysis as MA\n",
    "from kimono.analysis import MotifAnalysisConfig"
   ]
  },
  {
   "cell_type": "code",
   "execution_count": null,
   "metadata": {},
   "outputs": [],
   "source": [
    "config = MotifAnalysisConfig(\n",
    "    use_dataset=\"dbptm\",\n",
    "    data_dir=\"~/STRUCTURAL_MOTIFS/DATA/dbPTM/Phosphorylation\",\n",
    ")"
   ]
  },
  {
   "cell_type": "code",
   "execution_count": 1,
   "metadata": {},
   "outputs": [
    {
     "ename": "NameError",
     "evalue": "name 'MA' is not defined",
     "output_type": "error",
     "traceback": [
      "\u001b[0;31m---------------------------------------------------------------------------\u001b[0m",
      "\u001b[0;31mNameError\u001b[0m                                 Traceback (most recent call last)",
      "Cell \u001b[0;32mIn [1], line 1\u001b[0m\n\u001b[0;32m----> 1\u001b[0m ma \u001b[38;5;241m=\u001b[39m \u001b[43mMA\u001b[49m(\n\u001b[1;32m      2\u001b[0m     use_dataset\u001b[38;5;241m=\u001b[39m\u001b[38;5;124m\"\u001b[39m\u001b[38;5;124mdbPTM\u001b[39m\u001b[38;5;124m\"\u001b[39m,\n\u001b[1;32m      3\u001b[0m \n\u001b[1;32m      4\u001b[0m )\n",
      "\u001b[0;31mNameError\u001b[0m: name 'MA' is not defined"
     ]
    }
   ],
   "source": [
    "ma = MA(\n",
    "    config=config,\n",
    ")\n"
   ]
  },
  {
   "cell_type": "code",
   "execution_count": null,
   "metadata": {},
   "outputs": [],
   "source": [
    "ma.difference_transform()"
   ]
  }
 ],
 "metadata": {
  "kernelspec": {
   "display_name": "Python 3.10.9 ('kimono')",
   "language": "python",
   "name": "python3"
  },
  "language_info": {
   "codemirror_mode": {
    "name": "ipython",
    "version": 3
   },
   "file_extension": ".py",
   "mimetype": "text/x-python",
   "name": "python",
   "nbconvert_exporter": "python",
   "pygments_lexer": "ipython3",
   "version": "3.10.9"
  },
  "orig_nbformat": 4,
  "vscode": {
   "interpreter": {
    "hash": "e6b1e962551f2b5c77872f19a1344149ef0d91396e0b271e5aa46973dc01c233"
   }
  }
 },
 "nbformat": 4,
 "nbformat_minor": 2
}
