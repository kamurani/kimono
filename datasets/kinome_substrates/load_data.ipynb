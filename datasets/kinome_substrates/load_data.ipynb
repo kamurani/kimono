{
 "cells": [
  {
   "cell_type": "markdown",
   "metadata": {},
   "source": [
    "### An atlas of substrate specificities for the human serine/threonine kinome\n",
    "\n",
    "Jared L. Johnson, Tomer M. Yaron, Emily M. Huntsman, Alexander Kerelsky, Junho Song, Amit Regev, Ting-Yu Lin, Katarina Liberatore, Daniel M. Cizin, Benjamin M. Cohen, Neil Vasan, Yilun Ma, Konstantin Krismer, Jaylissa Torres Robles, Bert van de Kooij, Anne E. van Vlimmeren, Nicole Andrée-Busch, Norbert F. Käufer, Maxim V. Dorovkov, Alexey G. Ryazanov, Yuichiro Takagi, Edward R. Kastenhuber, Marcus D. Goncalves, Benjamin D. Hopkins, Olivier Elemento, Dylan J. Taatjes, Alexandre Maucuer, Akio Yamashita, Alexei Degterev, Mohamed Uduman, Jingyi Lu, Sean D. Landry, Bin Zhang, Ian Cossentino, Rune Linding, John Blenis, Benjamin E. Turk, Michael B. Yaffe, and Lewis C. Cantley\n",
    "\n",
    "Nature 613, 759–766 (2023). DOI: 10.1038/s41586-022-05575-3"
   ]
  },
  {
   "cell_type": "code",
   "execution_count": null,
   "metadata": {},
   "outputs": [],
   "source": []
  },
  {
   "cell_type": "markdown",
   "metadata": {},
   "source": [
    "## Notes \n",
    "\n",
    "\n",
    "- things to consider with docking simulation: need to pick phosphosite on candidate substrate that is separate (in 3d space) ~15A away from other phosphosites (or modelling will be ambiguous as to what it thinks the phosphosite / kinase interaction site actually is) \n",
    "- avoid accidental docking \n",
    "\n",
    "\n",
    "- generate score for each phosphosite of 'isolation' \n",
    "\n",
    "\n",
    "- evaluate quality of each phosphosite somehow ; use a consensus set ofhigh quality ones (assuming the PSP dataset doesn't already have this in place)\n",
    "\n",
    "\n",
    "- generate a score for each 'linear motif found in 3d structure' that resembles how different the side chain angles are from what you'd expect to see in a peptide\n"
   ]
  }
 ],
 "metadata": {
  "kernelspec": {
   "display_name": "Python 3.8.10 64-bit",
   "language": "python",
   "name": "python3"
  },
  "language_info": {
   "name": "python",
   "version": "3.8.10"
  },
  "orig_nbformat": 4,
  "vscode": {
   "interpreter": {
    "hash": "916dbcbb3f70747c44a77c7bcd40155683ae19c65e1c03b4aa3499c5328201f1"
   }
  }
 },
 "nbformat": 4,
 "nbformat_minor": 2
}
